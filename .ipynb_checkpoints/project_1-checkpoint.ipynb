{
 "cells": [
  {
   "cell_type": "markdown",
   "id": "833fef35-7302-49fd-ab8a-42592141afbc",
   "metadata": {},
   "source": [
    "# Data Cleaning"
   ]
  },
  {
   "cell_type": "code",
   "execution_count": 1,
   "id": "54b05c13-95e3-4f53-8bad-95e66a876b58",
   "metadata": {},
   "outputs": [],
   "source": [
    "import pandas as pd\n",
    "import numpy as np\n",
    "from pathlib import Path\n",
    "%matplotlib inline"
   ]
  },
  {
   "cell_type": "code",
   "execution_count": 2,
   "id": "c6ae6ddc-fe90-4ca5-89bf-efc7abb1a08c",
   "metadata": {},
   "outputs": [],
   "source": [
    "# Set the file paths\n",
    "inflation_data = Path(\"../Resources/annual_inflation.csv\")\n",
    "mortgage_rate_data = Path(\"../Resources/mortgage30yr.csv\")\n",
    "median_income_data = Path(\"../Resources/median_h_inc.csv\")\n",
    "median_house_cost_data = Path(\"../Resources/median_house_price.csv\")\n",
    "us_debt_data = Path(\"..Resources/us_debt.csv\")\n",
    "\n",
    "# Paths for common commodities\n",
    "chicken_lb_data = Path(\"../Resources/chicken_lb.csv\")\n",
    "coffe_lb_data = Path(\"../Resources/coffee_lb.csv\")\n",
    "electricity_data = Path(\"../Resources/electricity_per_kwh.csv\")\n",
    "gasoline_data = Path(\"../Resources/gasoline_gal.csv\")\n",
    "bread_data = Path(\"../Resources/white_bread_lb.csv\")\n"
   ]
  },
  {
   "cell_type": "markdown",
   "id": "b9bdb4f4-54b5-446d-8efd-764c589aaf1a",
   "metadata": {},
   "source": [
    "## Read in as Data Frames"
   ]
  },
  {
   "cell_type": "code",
   "execution_count": null,
   "id": "dce39ace-cdfa-4749-b45f-9e48cf9ff746",
   "metadata": {},
   "outputs": [],
   "source": [
    "# Read in data\n",
    "_df = pd.read_csv(_data)\n",
    "_df = pd.read_csv(_data)"
   ]
  }
 ],
 "metadata": {
  "kernelspec": {
   "display_name": "Python 3 (ipykernel)",
   "language": "python",
   "name": "python3"
  },
  "language_info": {
   "codemirror_mode": {
    "name": "ipython",
    "version": 3
   },
   "file_extension": ".py",
   "mimetype": "text/x-python",
   "name": "python",
   "nbconvert_exporter": "python",
   "pygments_lexer": "ipython3",
   "version": "3.11.5"
  }
 },
 "nbformat": 4,
 "nbformat_minor": 5
}
